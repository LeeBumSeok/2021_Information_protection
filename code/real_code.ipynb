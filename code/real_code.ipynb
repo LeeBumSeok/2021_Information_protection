{
  "cells": [
    {
      "cell_type": "code",
      "execution_count": 4,
      "metadata": {
        "id": "0znPvdHRDTY9"
      },
      "outputs": [],
      "source": [
        "import re\n",
        "import pandas as pd\n",
        "import numpy as np\n",
        "import matplotlib.pyplot as plt\n",
        "from sklearn.feature_extraction.text import TfidfVectorizer\n",
        "from sklearn.ensemble import RandomForestClassifier\n",
        "from sklearn.metrics import accuracy_score,f1_score\n",
        "from sklearn.metrics import confusion_matrix\n",
        "from sklearn.metrics import accuracy_score, roc_auc_score, roc_curve\n",
        "from sklearn.svm import LinearSVC"
      ]
    },
    {
      "cell_type": "markdown",
      "metadata": {
        "id": "H2GnbmboDTZE"
      },
      "source": [
        "파싱"
      ]
    },
    {
      "cell_type": "code",
      "execution_count": 5,
      "metadata": {
        "id": "_Z_n1ADLDTZN"
      },
      "outputs": [],
      "source": [
        "#파싱을 진행하는 함수\n",
        "def parsing(path):\n",
        "    with open(path,'r',encoding='utf-8') as f:\n",
        "        train=[]\n",
        "        head = [\"POST\",\"PUT\"]\n",
        "        l = f.readlines()\n",
        "        for i in range(len(l)):\n",
        "          line = l[i].split()\n",
        "          if len(line)!= 0:\n",
        "            if line[0] == \"GET\":\n",
        "              train.append(line[0]+line[1])\n",
        "            elif line[0] in head:\n",
        "              j=1\n",
        "              while True:\n",
        "                j+=1\n",
        "                if l[i+j].startswith(\"Content-Length:\"):\n",
        "                  break\n",
        "              train.append(line[0]+line[1]+\"?\"+l[i+j+2])\n",
        "            \n",
        "    return train"
      ]
    },
    {
      "cell_type": "code",
      "execution_count": 6,
      "metadata": {
        "id": "FfM0bEMxDTZS"
      },
      "outputs": [],
      "source": [
        "def dataset(path,mod='train'): #데이터셋을 생성합니다. 파싱한 데이터와 라벨을 생성합니다 \n",
        "    x = parsing(f'../data/{path}norm_{mod}.txt') # mod에 따라 train을 가져올지 test 데이터를 가져올지 결정됩니다.\n",
        "    y = [0]*len(x) # 정상 라벨 0 을 정상 데이터 개수 만큼 생성\n",
        "    x += parsing(f'../data/{path}anomal_{mod}.txt')\n",
        "    y += [1]*(len(x)-len(y)) # 비정상 라벨 1을 비정상 데이터 개수 만큼 생성\n",
        "    return x, y"
      ]
    },
    {
      "cell_type": "code",
      "execution_count": 7,
      "metadata": {
        "id": "9EAgz0xKDTZb"
      },
      "outputs": [],
      "source": [
        "def vectorize(train_x,test_x): #문장을 벡터로 만듭니다 해당 코드에서는 기본적인 tf idf를 사용하고 있습니다.\n",
        "    tf = TfidfVectorizer()\n",
        "    tf = tf.fit(train_x)\n",
        "    train_vec = tf.transform(train_x)\n",
        "    test_vec = tf.transform(test_x)\n",
        "    return train_vec,test_vec"
      ]
    },
    {
      "cell_type": "code",
      "execution_count": 8,
      "metadata": {
        "id": "esmF6jmNDTZf"
      },
      "outputs": [],
      "source": [
        "def train(train_vec,train_y): #랜덤 포레스트로 훈련 시킵니다. 모델을 바꾸고 싶다면 이 함수를 변경해야 합니다.\n",
        "    rf = RandomForestClassifier(200)\n",
        "    rf.fit(train_vec,train_y)\n",
        "    return rf"
      ]
    },
    {
      "cell_type": "code",
      "execution_count": 9,
      "metadata": {
        "id": "fbP3QkE8DTZi"
      },
      "outputs": [],
      "source": [
        "#입력 받은 테스트와 모델로 테스트를 실시합니다\n",
        "def test(test_y,test_vec,test): \n",
        "    pred = test.predict(test_vec)\n",
        "    fpr, tpr, thresholds = roc_curve(test_y,pred,pos_label = 1)\n",
        "    plt.plot(fpr, tpr)\n",
        "    print(accuracy_score(test_y,pred))\n",
        "    print(f1_score(test_y,pred))\n",
        "    print()\n",
        "    return pred"
      ]
    },
    {
      "cell_type": "code",
      "execution_count": 10,
      "metadata": {
        "id": "xhFZpsB0DTZp"
      },
      "outputs": [],
      "source": [
        "from sklearn.linear_model import LogisticRegression\n",
        "def lgs_train(train_vec,train_y):\n",
        "    lgs = LogisticRegression(solver='lbfgs', max_iter=1000)\n",
        "    lgs.fit(train_vec,train_y)\n",
        "    return lgs\n",
        "\n",
        "from sklearn import tree\n",
        "def dt_train(train_vec,train_y):\n",
        "    dt = tree.DecisionTreeClassifier()\n",
        "    dt.fit(train_vec,train_y)\n",
        "    return dt\n",
        "\n",
        "from sklearn.svm import LinearSVC\n",
        "def svm_train(train_vec,train_y):\n",
        "    svm = LinearSVC(C=1)\n",
        "    svm.fit(train_vec,train_y)\n",
        "    return svm\n",
        "\n",
        "from sklearn.ensemble import RandomForestClassifier\n",
        "def rf_train(train_vec,train_y):\n",
        "    rf = RandomForestClassifier(200)\n",
        "    rf.fit(train_vec,train_y)\n",
        "    return rf"
      ]
    },
    {
      "cell_type": "code",
      "execution_count": 11,
      "metadata": {
        "colab": {
          "base_uri": "https://localhost:8080/"
        },
        "id": "Jl1Mmg7mDTZv",
        "outputId": "3f58eb70-0988-44ba-a6be-860211f82184"
      },
      "outputs": [
        {
          "name": "stdout",
          "output_type": "stream",
          "text": [
            "test on Logistic Regresstion\n",
            "0.9760910505199377\n",
            "0.9706473663047849\n",
            "\n",
            "test on RandomForest\n",
            "0.9652828952755261\n",
            "0.9587789228076998\n",
            "\n",
            "test on DecisionTree\n",
            "0.9668386145910096\n",
            "0.9603834490853957\n",
            "\n",
            "test on Linear_SVM\n",
            "0.9945959223777942\n",
            "0.993382795267696\n",
            "\n"
          ]
        },
        {
          "data": {
            "image/png": "[encoded data removed]",
            "text/plain": [
              "<Figure size 432x288 with 1 Axes>"
            ]
          },
          "metadata": {
            "needs_background": "light"
          },
          "output_type": "display_data"
        }
      ],
      "source": [
        "############### 실행 코드 #######################\n",
        "################################################\n",
        "train_x, train_y = dataset('./','train')\n",
        "test_x, test_y =  dataset('./','test')\n",
        "train_vec, test_vec = vectorize(train_x, test_x)\n",
        "\n",
        "\n",
        "print(\"test on Logistic Regresstion\")\n",
        "lgs = lgs_train(train_vec, train_y)\n",
        "pred = test(test_y,test_vec, lgs)\n",
        "\n",
        "print(\"test on RandomForest\")\n",
        "rf = rf_train(train_vec, train_y)\n",
        "pred = test(test_y,test_vec, rf)\n",
        "\n",
        "print(\"test on DecisionTree\")\n",
        "dt = dt_train(train_vec, train_y)\n",
        "pred = test(test_y,test_vec, dt)\n",
        "\n",
        "print(\"test on Linear_SVM\")\n",
        "svm = svm_train(train_vec, train_y)\n",
        "pred = test(test_y,test_vec, svm)\n",
        "\n",
        "########################################################"
      ]
    },
    {
      "cell_type": "code",
      "execution_count": null,
      "metadata": {},
      "outputs": [],
      "source": []
    },
    {
      "cell_type": "code",
      "execution_count": null,
      "metadata": {},
      "outputs": [],
      "source": []
    }
  ],
  "metadata": {
    "colab": {
      "collapsed_sections": [],
      "name": "real_code.ipynb",
      "provenance": []
    },
    "interpreter": {
      "hash": "808c2ae9a42fb2ecec16296a743e6b176ec2afc2b40ef2e12178458ababf0cce"
    },
    "kernelspec": {
      "display_name": "Python 3.9.7 64-bit",
      "name": "python3"
    },
    "language_info": {
      "codemirror_mode": {
        "name": "ipython",
        "version": 3
      },
      "file_extension": ".py",
      "mimetype": "text/x-python",
      "name": "python",
      "nbconvert_exporter": "python",
      "pygments_lexer": "ipython3",
      "version": "3.9.7"
    },
    "orig_nbformat": 4
  },
  "nbformat": 4,
  "nbformat_minor": 0
}
